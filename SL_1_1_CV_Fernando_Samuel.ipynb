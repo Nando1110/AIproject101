{
  "nbformat": 4,
  "nbformat_minor": 0,
  "metadata": {
    "colab": {
      "name": "SL-1-1 CV Fernando Samuel.ipynb",
      "provenance": [],
      "collapsed_sections": [],
      "authorship_tag": "ABX9TyNqeM3DqobVdRuKC4Ds0eCF",
      "include_colab_link": true
    },
    "kernelspec": {
      "name": "python3",
      "display_name": "Python 3"
    },
    "language_info": {
      "name": "python"
    }
  },
  "cells": [
    {
      "cell_type": "markdown",
      "metadata": {
        "id": "view-in-github",
        "colab_type": "text"
      },
      "source": [
        "<a href=\"https://colab.research.google.com/github/Nando1110/AIproject101/blob/main/SL_1_1_CV_Fernando_Samuel.ipynb\" target=\"_parent\"><img src=\"https://colab.research.google.com/assets/colab-badge.svg\" alt=\"Open In Colab\"/></a>"
      ]
    },
    {
      "cell_type": "code",
      "source": [
        "name  = input('Masukan nama Anda                     : ')\n",
        "sex   = input('Masukan jensi kelamin Anda            : ')\n",
        "add   = input('Masukan alamat rumah Anda             : ')\n",
        "hoby  = input('Sebutkan hobi Anda                    : ')\n",
        "study = input('Masukan pendidikan Anda saat ini      : ')\n",
        "work  = input('Masukan pekerjaan anda                : ')\n",
        "sm    = input('Apa media sosial Anda                 : ')\n",
        "quote = input('Apa kutipan favorit Anda              : ')\n",
        "exp   = input('Sebutkan pengalaman Anda(gunakan koma): ').split(\", \")"
      ],
      "metadata": {
        "colab": {
          "base_uri": "https://localhost:8080/"
        },
        "id": "c_7NAiPKvkXG",
        "outputId": "c6c40e43-e8a4-4b27-890e-e1f3da1d1387"
      },
      "execution_count": null,
      "outputs": [
        {
          "name": "stdout",
          "output_type": "stream",
          "text": [
            "Masukan nama Anda                     : Fenando Samuel Tagi Huma\n",
            "Masukan jensi kelamin Anda            : Laki - laki\n",
            "Masukan alamat rumah Anda             : Jakarta\n",
            "Sebutkan hobi Anda                    : Bermain musik\n",
            "Masukan pendidikan Anda saat ini      : S-1 Teknik Elektro\n",
            "Masukan pekerjaan anda                : Mahasiswa\n",
            "Apa media sosial Anda                 : @_nando1202\n",
            "Apa kutipan favorit Anda              : Happiness is all when what do you think, what do you say, and what are you doing walk in harmony.\n",
            "Sebutkan pengalaman Anda(gunakan koma): Staff Divisi Eksternal HME, Staff Acara MICRO, Staff Acara APCOM\n"
          ]
        }
      ]
    },
    {
      "cell_type": "markdown",
      "source": [
        "# Simple CV with python\n",
        "![GZDwdc - Copy (2).png](data:image/png;base64,iVBORw0KGgoAAAANSUhEUgAAAZkAAAGaCAYAAADdMT5gAAAAAXNSR0IArs4c6QAAAARnQU1BAACxjwv8YQUAAAAJcEhZcwAADsQAAA7EAZUrDhsAAAAhdEVYdENyZWF0aW9uIFRpbWUAMjAyMTowNjoyMiAxNjoxMjo1OHy0pd0AADnpSURBVHhe7d0HlBzVmfbxy4xGCCQhRAaRBBJJgMjBWOYs4YDNYoJtDl7Au5i0XvwJdtcmLHjBxgRjwx4TjbFZWPDaJtvAYrINIokokRFJBKEIklAYaTTDV89bdVulpid0dVdPV9X/d06pnyrN9PRUT9+36tatqpWcc58HEwAAddcSPQIAUHcUGQBAaigyAIDUUGQAAKmhyAAAUkORAQCkhiIDAEgNRQYAkBqKDAAgNRQZAEBqKDIAgNRQZAAAqaHIAABSQ5EBAKSGIgMASA1FBgCQGooMACA1FBkAQGooMgCA1FBkAACpocgAAFJDkQEApIYiAwBIDUUGAJAaigwAIDUUGQBAaigyAIDUUGQAAKmhyAAAUkORAQCkhiIDAEgNRQYAkBqKDAAgNRQZAEBqKDIAgNRQZAAAqaHIAABSQ5EBAKSGIgMASA1FBgCQGooMACA1FBkAQGooMgCA1FBkAACpocgAAFJDkQEApIYiAwBIDUUGAJAaigwAIDUUGQBAaigyAIDUUGQAAKmhyAAAUkORAQCkhiIDAEgNRQYAkBqKDAAgNRQZAEBqKDIAgNRQZAAAqaHIAABSs1IwfR5GoDmtvvrqbp111nFrr7225QkTJrh58+ZF/4uebLnllm7TTTd1n3zyiZs5c6abMWOGa29vj/4XSB9FBk2jra3NDRs2zKatt97abbHFFm7UqFFurbXWcoMHD7Zp5ZVXdqeccoqbOHFi9F3oyQ9/+EN32GGHucWLF7uFCxe6BQsWuA8++MC988477tVXX3Xvv/++mzt3rps/f777/HOaAtQfRQb9Tnsou+66q9t9993dZptt5jbaaCMrKGr0VlpJf6LBH2ks/+xnP3O33nqrZfTsiiuusPUqldbnnDlz3HvvveemTJlie4iTJ0+2ggTUC0UGDae9EXXj7Lzzzm7//fe3wtLa2mr/111hieebb77Z/fznP7eM7g0dOtRde+21bvPNN7f5vqxbFZgXX3zRPfjgg27SpEm219PV1WX/ByShvyyKDFI3aNAgN2LECLfHHnu4/fbbz22wwQZ2fKWlpcUaOVFD15f85JNPuvHjx9s8uqdjMZdddplbb731+rxufV62bJmbPXu2e/vtt90999zjXn75ZTdr1izX2dlp/w/0FUUGqRowYIDbcccd3eGHH+522GEHO74iaszUqCXJ6tr57ne/ywHsXmhPUV2LOsYlSde59mTUpabjYLfccosdxwH6Sn9NFBnUnYqJusIOPfRQ6w6TpI1cef74449tT0YNH7p30EEHubPPPtsKvdSyzn3WHo6KzZ133umeeOIJt2TJEvt/oDvqCD83jEDt1A2mwqIRYAcccIBbY401bLlvrKTWrC3rxx9/3IoNurf33nvbgApJsp69eNaxsw033NB9+ctftj1U7U1q8ADFBt2hyKAudDBfW86nn3667cGsueaadrxFamnUKmU9r7amdbwA3TvkkEPc6NGjE69n6S4PHDjQjrGpkG233XZu6tSpdswGKMcZ/6iJtmx1IP/Xv/61+9GPfmQHm+ONURp0Po2GOaNnI0eOjFJ69F5ob0mj2H7yk5/Y+U1AHHsySER7ExqGrG6xo48+2rrJpNot4qRZW81//etfLeOLtJ703qgI+HkvjayNDR17GzdunFtllVXchx9+aCd/AuzJIBGNFrv44ovtuItOnJRaGqlqM3syPdOxsEa/L3rUibUnnHCCO++889z2229vy1FsFBlURZd6+cUvfmHHXnT+RX/ZZJNNooRK1G3ZX7SXq0EB11xzjRUcnQ+F4qLIoE/U7aIDyRdeeKH7yle+Ei0Nh7Z6jcw6m12DC1DZxhtvHKXa1nMtWV1oxx57rLvgggvYqykwigx6pbP1jznmGHfaaadZN1U1XSiSVqbLrHvxPb0k69arNWvjZJdddrGNE11DLf7/KAaKDHq0/vrrW//69773PRu22kz6s0uomWk4ud63ZqJbNVxyySW2Z6OBASgOigwqUr+6zrHQhSg1YqiWbpO0crxLCMutuuqqK3QlJlm3Xj2zip+KjG4/4C91g/yjyKCisWPHuosuusiGKavg9LV7xGtE1sCDZtu7agYqMv4acZJk3Xr1zio0Bx98sDvrrLM4plYQFBl8wT777GN96M2+p6AuGD9MF8tpUISGEjezv/u7v7Mh8OyN5h9FBiXaY9HB2TPPPNPOs0jSJeI1ImtLmP79L1p33XVLJ2FKknXrpZm33XZbu0pAsxdE1IYigxJ1kemqvf68hqRdItKI7G/LjBU10whAr1LW45gxY+g6yzmKDIw+7Nqq7M8TLKulodX+cjZYzt8JMyv22msv27hZbbXVoiXIE4oM3PDhw90ZZ5xh3SxJuz6kPzLnyqxIewe6FH/S9Sn9kdVNe+KJJ5Zuw438oMgUnEYiff/733dbbbWVzffWxSHNlCkyK9LegIYHJ12f0h9ZN1b75je/abeJiP8/so8iU2D6YOs2xhpSmlW68i+N0nIacacNhyzSXozOoVH3GfKDIlNgusmYrqYcl7S7Q/oja6udvvzl/GCIpOtT+jPrvTz55JPtRGDkA0WmoHSA/1/+5V/ckCFDeu3KkGbNGsLMyKTlNBxY6yTp+pT+zhq4oC5c5ANFpoB0sp4O9Pv772eZiqQGLCCkY1Q63ynrvvSlL7l/+Id/YCBADlBkCkZbi1/72tfcbrvtFi1J1q3h9XfWVjsn8y3nz6BPuj6lWbKKjO5fhGyjyBSMtnSPOOKIFc4Ir6YrQ5opa6udc2WW85f4T7o+pVmy9lB1i4n43yqyhyJTMCeddFLuhv1yyf+Qupby9t5++ctfdl/96lejOWQRRaZAdthhB7swoSTpvvCaLVNkQtry91elrmV9NlPWVR2+853vcI26DKPIFITOnfj2t79d6npI0n3hNVvWGe7x+aKK78VUuw6bOasLkL2Z7KLIFMQee+xhNx/Lo2a8E2R/0ImpeaVBACNGjIjmkCUUmQJQV4NOutQZ/l7S7gtpxpy3YxHV0pZ/fB0kWYdeM2b9bvvuu2+0BFlCkSkAHYvZZpttqu6myFIuepHR3lx8KHeSdeg1Y9YowgMOOCAX53YVDUWmANTVoJMW82zkyJErNExFo0vJ6LpleabuQF1AE9lCkck5beHuvPPOlpN0U3jNntXA6nctKg3siF9eJ8k69Jo1a4i2bgmAbKHI5Jwa3jyOKCvPamCzevXhetCeTLwrKck69Jo5F/k9ziqKTM7FtwjzTHsyRb4Vsy4nw5nxaEYUmZzr6OiIUnVdE5KlrLt7FrnIaOBDkvXmZSXH/56RDRSZnOvs7IxSbd0UzZ51pnuRr2GmIpNkvXlZyfG/Z2QDRSbntOVXlA+mRpgVkYb3+qsv5117e3uUkBUUmQJYvHixPdbSTZGFXNRzZXR3UN0jKOl6k6zkJUuWRAlZQZEpAL/1V0s3RRZyUa9hplsua9RVNetKspj9BhOygyJTAEX5YGqLfvXVV4/mikO30i7KoAe6y7KHIlMAReku09Z8Ee+SqT0ZXZ8u6XqTrORFixZFCVlBkSmAhQsX2mMt3RRZyCoyanCLRqPqtA6qWVeSxez/lpEdFJkCWLBgQZTyTUVGN+4qmiKNqqPIZA9FpgB8F0Mt3RRZyNriLeK5Mn5UXdL1JlnIGorP6LLsocgUQFG6y6Row5h10Uh/M69a1lsW8rJlyygyGUSRKYAidTHk+e6QlajAFOXq0yoyjC7LHopMAfgik7SbQrKS1ehq674o4ntutay3LGS6y7KJIlMA/phM0m4KyUrWNcyKdPBfJ6B6tay3LGS6y7KJIlMA2pOJbxnmXVFGW6nx3XTTTaO5/KO7LJsoMgWgrT91NVTTNSFZzfGt+zzTsZj4eUFJ1pWXhUx3WTZRZApAW3/aCqyma0KymosyjFnnBcVvuZxkXXlZyHSXZRNFpgB8kSkKXcurCCOuinaFA7rLsokiUwC+yCTtppAs5aLc71+/Y/y+/knWlZeFTJHJJopMAeiDqZuXJe2mkCxlFRldMDLv1llnnRX22JKsKy8LWV1lS5cutYzsoMgUgK7CXKTuMl2JeciQIdFcfhVpZJkU5Rp8eUORKYCidZfpXBlt5eedTsRMsn68rOXPPvvMHpEtFJkC8EUmaTeFZClrKsIw5vI7geY9syeTTRSZAtAZ/zomUyR5v1Cm7oQZH75cBPPnz48SsoQiUwDai9FB06TdFJK1nPehvTrmpG7BpOtHspa5l0w2UWQKQl0NSbspJGt56NCh9phXGj03YMCAxOtHspY5JpNNFJmCKNoHdPjw4bk+V6Yo5wLFUWSyiSJTEPqAJu2mkKzlYcOG5fq4zCabbGLHZZKuH8la5sB/NlFkCqJo3WXak9l2220t59G4cePsvjlJ149kLVNksokiUxBFG5mjBviII46wg+N5M2rUKLfnnntGc8WgM/25pEw2UWQKQluBSbspJItZ95U59NBDc3WnTA1oOO6440q/Uy3rJ0vZXxoJ2UORKQgdk0naTSFZzccee6wbO3ZstCTb9Pscfvjhbu+9946W9H09eFnNRbs0Up5QZAqiqCey6XyZ888/3x144IErNFxZo5Fk48ePdyeccIJra2uLlhaHigx7MtlEkSkIdZd1dXVFc8m6LLysZQ33Pf30092pp55ql2JpacnOn72OKWlPTIXyyCOPLNwJmKLMnkx2qWP33DAizzSk9+///u9LW8F97abwsp51SXyNNtttt92s6EyfPr2pz7vQiZZ6vccff7wdg9lyyy1LxbGW9ZDV/MEHH7j77ruPO2NmkN7J5ZsMyC2dV3HNNddYA6stQ/8hLnKeNm2ae+2119zUqVPdrFmz7B7y/Uln8a+//vr2Xo0ZM8atttpqtryW3zEv+fHHH3dnnXUWl5bJIL2TFJkCGDFihLvyyivtUR9c0YeXTM5Cfuihh9w555zDTcsyiGMyBaGDpurX9vQB9sghcqgZM8dksosiUxD6gOqS/0AWlQ9cQXZQZApCezLxM6Z9N4SQQ+RQM2YujpldFJmC0J4M3WUhcihLmRuWZRdFpiDKj8kAWcKeTHZRZAqi/JhMki4LjxwihxqR2ZPJLopMgcQvlZ6ky8Ijh8ihRmT2ZLKLIlMg8+bNixKQLezJZBdFpkDiW4NJuiw8cogcakSmyGQXRaZA4h/UJF0WHjlEDjUi012WXRSZAqG7DFmkAStcTia7KDIFEt+TSdJl4ZFD5FDamb2YbKPIFEj8w5qky8Ijh8ihtDPHY7KNIlMgc+fOjRKQHfzdZhtFpkB0xr+/hW0t3RfkEDmUdmZPJtsoMgXjT8ispfuCHCKH0s4ck8k2ikzB0PWArGFUZLZRZArGbxXW0n1BDpFDaWe6y7KNIlMw/gNbS/cFOUQOpZ3pLss2ikzB0PWALOGOrtlHkSkYvydTS/cFOUQOpZk1GpIik20UmYLxXQ+1dF+QQ+RQmpmb7WUfRaZgGF2GLGFPJvsoMgWzcOFC19nZmbj7QsghcijNTJHJPopMwbS3t9vB1KTdF0IOkUNpZv2t0l2WbRSZgtGejL+0DNDs2JPJPopMwegDqw9u0u4LIYfIoTSz/lbZk8k2ikzBqLtMH9yk3RdCDpFDaWYVGHWZIbsoMgVDdxmyhJOHs48iUzD+cv9Juy+EHCKH0sxctyz7KDIFo2MyjC4jSxYyRSb7KDIFs2TJEpuALKC7LPsoMgWkrcOk3RdCDpFDaWauwJx9FJkCUpFJ2n0h5BA5lGZmTyb7KDIF9Omnn0YJaG4UmeyjyBQQ3WVkafbc1dVFd1kOUGQKiO4ysjR71nD7pUuXRkuQVRSZAuJy/8gCfwkkZBtFpoDUBZGk+8Ijh8ihtDJFJh8oMgVUfoJbkq4Mjxwih+qZ/dUpkG0UmQLSyZhc2RbNjj2ZfKDIFJA+uPEik6QrwyOHyKF6Zn8JJGQbRaaAVGT0AfaSdGV45BA5VM9Md1k+UGQKqLzIAM2I7rJ8oMgU0KBBg9ywYcOiuWRdGR45RA7VM6+xxhpulVVWiZYgqygyBbTZZpu5ddZZJ5pL1pXhkUPkUD3z6NGjrdAg2ygyBbT33nu7lhbeejS39dZbz2299dbRHLKKlqZgVl99dfvgJum+8MghcijNvMsuu9gjsosiUzCjRo1ya6+9dqLuC48cIofSzGPGjHGDBw+2jGyiyBTMtttu61ZbbbVoDmhu6667rttiiy2iOWQRRaZgdtttN3tM2n0h5BA5lGYeOnSo22qrrSwjmygyBaKhy9qTkaTdF0IOkUNpZg1Q2WmnnSwjmygyBbLDDjtw3gEyZ/fdd3dtbW3RHLKGIlMQ2jKMbxEm7b4QcogcSjtrD5wus+yiyBSERujEP6jVdFkIOUQONTrvuOOO0RyyhiJTEDpzWsOXgSzabrvtbI8G2UORKYiNNtrIrbnmmtFc9V0WwYw92PZlL1mqfX5yKGu5L38P9fjb0KWQhg8fHi1BllBkCmL77bdf4VIy1XRZ2L9B1qNNPWSJZyGH8pw1Z1MPWeJZ+po32GCDFa63h+ygyBRAa2tr1X3a/iOux0qT/nDiU3x5/Os0efGMbIm/d5Xeb/93UGnyXxufqjVgwACGMmeU/gaQczprWpeSqbabIpixB2sYgqxH/cG0Btk3ID63li1viX29/15rXIIs8SzVvjZyKM1c/n7pfbT3M5Y1Vfp7KM/d/Q1U83p0jld8DwfZoPcfOafjMbp/TF+7JuwxyvYYTC1B9g2GshUVTUEeEMt+efnX++eJP2f5z/LIof7I+lfZHqOs91DZv4+aj7/X/m/A/g7KcvxvwD+Pf36p9BqkUtbfsS7wimzR+46c06iyIUOGRHO9KzUAsckalmjyjYhOj6uU41OpIQom/xylxqYs+8mLZ9RX+XqOT/490aOf/HtY6T32k/4G4pP/ev+9Pb3XfaED/yNHjozmkBV635Fz/lIyfemaCGaiEDQCQS41NEEuNTJB9kWlLco2xZbra+wxyr6hURdKqdEJcvz5Sw1blK0RCrKU5778LuTK61CPNgXZr3+f/fsSf7/0HiqXv6f+fR8Y5IHdZP/1lbrORNnr7XfRhpL2ZpAtes+Rc329Xpn9G8tarkdrfIJsDY2mIFsjoinIpUalbLly/OutsQlyqQGL5Xj3mn6uPUbL7bVEy/Uo8dfss5CDx1gWZVsWy7aug+zXuX8v4lmT3jtfKPz7WOm91uPKsWx/E9HXxN93/3P96wlekP41lX4X8VkDWLbcckvLyA6958gxDfvUHQb7Sh/n+GSNTjSpsVCjMeyee9w6p5zihv3hD27w5Mlu0NKlTqfJqZHxj76hKTU4scf4VGrAosn/LD/5n2+NUzD511T+Ov3kxXNelf++5ZNfZ34qX7d+iq//+HsTf+/i76myf6/L3/dBc+e6wU884Va/6iq37nHHuVVmzCg9h39/4++fF889GTt2bJSQFXpvl++XInfGjRvnLr300lKXg7YKu8vBTPjhD7LvMtFWp+8m0ZbpwJkz3Rqnn+4Gvvyy+7ylxX0+bJjr3HBDt2zXXd2y3Xd3nRtt5DqHD3efB1udndHzdwXf21Uh6yfH8+cVsvSUg5nwDzhabn/QZcuVTWx5T+uh2XIwYzmYKeX48ko5+Ne+vtQ11U3W1/tsexjd5FLXZnlub3ctc+a41jffdAMef9y1Bn8XLdOnO7dwoX3voqOOcvNPPtl1DBjglgZfvyz43mXBcv1tdAXZ/z3oNes30OvpaZ10dHS4ffbZxy1ZssSWo/np7yB8F5FLxx9/vDvppJPsA2oNUKC7HMxYtgYkyGpEbAs3yL7rY+idd7qhF17oVurqChuFYBL7Iwoaks5Ro1znmDFu2U47uY6g6HSttpo1+p36muB5rKgE2RqYWLbiEeXgRVjjo6/3y5W1vKcczIQFpsJy5fhyn3tbJ82Qg5mKWUUgmCnl+PLybHNBtuJRlvU15dn2NmLZ/z3Y8uC9b/34YzdgwgTXOmmSa33tNdfy4Ye2rsOfGjx9MCl3rbWWm3vFFa59883d0mC+I3ieZcHzWKEJsv8b0O/rf5fe1skxxxzjXn/9dVuG5qd3T+8xcmjllVd2P/7xj92+++7b6wc3mrHsGxX1o9seTJBVZAbNmuXWCLZKB7z7bvjlwRR9Z8X8eVR0lu2yi1s2dmxYgNZf3/ZyfGGxLdlY1uuplPXayhskn+OFRVnL9fXly33W91bKva2fRuZg5gvZ5mJZRSCYKWX/9T7Hl8ezLyDx3F1hsa8J9lZap051LW+95QY884xrfeEF1zJtWvAVwcvR91jqPrcffLCbe9ZZbmnwvqvIdATPGS8y/r0Ofph9fW/r56KLLnK33XabLUPzU4/IuWFE3uicgm9+85t2IqbnP7BSKetfZWtkgil+EHjIHXe4QQ8+aFuysvy7K2d9Xcvs2W7A5Mmu7bHHXNsjj7iBwWPrnDmupaPDtXZ2hs8/cGD4M6KfZT879nNLjZ7mY9kvL/8aZfs9NMVyMKN/Q93k3taPNCL7OZ81lf+O/nePv0fd5fID+LbxoKk8L1vm2ubNc23BnkpbsJeycvCer3ztta4teGy7/37X+sYbbqXPPgu+OrT8VfeQP/nENjI61l033KgIJr8xYFOQxQpTlKW7/HHw2p588sloDs1O75zeW+TQJpts4q655hq7MGZvW4fRjGVrvIKsRsoO2AZ54JIlbv1vfMO1zJxZakCsUQhj9VnHc4LX1TlypOvcdFPXufXWbtmOO7qu9dYL93SCrynvRovvycSXBy+6tDVcaryiry9fHn9O/b76Xv/1va2fRmWbi+X4Xkdp76Jsuc/lX+/3TLS8/Ht9oVpJBX/KFNf64ot2bKXl/fddy3vvORcUk/CVBS8nmGrJ7Qcd5Oace65bGvxcvyej4zNJ9mQeCzZUzj77bLdo0SJbjuamd09/A8ihnXfe2V199dX2weztgxvNWFbD44uM7y4bMnGiW/vUU4OWYVnVDUw1uWv4cNe51VZ2TKdzs81clwYSjBjhutraKhaKStk3Wr4Bi/f962vixSr4hUu5t/XTqGxzQY4Xh9JeTJS1dxIvGj0VnxWKTNAwt777rmv54IOw+0tdX0FhWSk6kK51Eb6a+mYdm/n4ttvc0lVWqbnIvP322+6UU05xM2bMsOVobnr39DeAHDr88MPdGWecYR9M+xAHesrBjP1BWIMWZBUY25sJcluwtTvs9tvdkBtucK2zZ9v3pO3zoEHS6LUu7fFssUU4oCAoQJ8PHeq6Bg92XUOGuC7tEelrg9dpRSbI8ZFLPmvggc/6Gis0UbYiFWTp67pKIwczpWyFIsha/1ZYouxPZrVCEy3375cVleh7W4KNgZb5813LggVupblzXetLL7nWV191Le+841b69FPr8tIeTNq0bjtHj3bzx493C3bbzeknatLBfyv+QY6/Fz2tH58/C177CSec4N4Jfhc0P4pMjp0a7HkcddRRlvUB1Qe1pxzMWLaGK8hqvKwPP8g2fLmry636+ONu6H/9l2sNtoStUdD3BRqVPx840HWpb1+T9nA23dQt23xzt2zrrV2XClLwOv3ei4qKFZcoa+vZCk6Q9XxWcKLcl/WTdg5mStnvgfg9Fr9XqffCik2Q/d6mFaDOTtfy8cfW3dUabOm36ED9hx+6ldS9OWdOxdGAjcgd48a5z/7f/3PtI0fWbXSZHv/5n//ZPf/887YczU3vnt5j5NBll13m9txzT8u9fXCjGcua80XGDhoHuXS2d5Dbgi1JFZqBDz3kVlq8WN/Za2MjaWd1yaiLTXs7HZts4pats45bGhSjpcGe0NLVVluhYVPxadYiozmtf+V4MWkLCsnKwV6JzlVqmzXLDZg+3bUFBaX19detqKy0cGH4NMEUPWO/5a5g3S858ki3MNjIUfeYTcFyFRlf/LX+kxQZufjii90tt9xiGc1N75jeY+SMhi9fd911bvTo0fbBtA9xoKcczFhWcbEt6SirkbOt6CDbXk2Q29rb3aAJE9ygG28MRxxFI86ahQYPqLvNutQGD3Zz//Ef3dyvftWOA1gDF/wu1sjpa6PfXb99X9dVGjmYsax17ru/fBeZ1v+6F13kBj33nGsJiokmF7wHep+ayeeDBrlle+zh2v/pn9zSLbd0SwcMKJ2AacdiglyP9X/TTTe5X/7ylzaP5qa/Y+SQhi+vEjSy1nhF+pr1UbYpytb9FGQ1Dr6x0AHcRfvt5z679FLXftxxdsDeC5uCUH9lp+6jBQtsa79l3jzXMXKkbVHZVPb7+rme1onXyBzMhA8Wgz2BUaPcgI8+smNitgcZNbpS7fpJI+u4WfuZZ7qFP/2pW7LNNmGBCZbbFLx+Ky6agqzvs++N/b7VrJ9qLpWE/kWRyak11ljDDQq2KqtR+uBHlK1RCCZfYKzIBJP61zW1r7WWW3DiiW7+H/7gFn/ve3bCpQv2IppJ+7hxbulWW0VzX1T+ezerxUFRV7FsKtpz2WUXtygoLAuCPedFX/uaWxLsRWusmh2DiSb93ZSKTDSV/61VQ0UmfjtxNC+1BpyMmUObb765O/DAA93AgQOr2kK0f2PLy7NvDKyLQ49R7lJjs8MOruMrX3GdwVbsSkuXupXUnaPHPp68KfXO6i6bO368HZuxLhotCya/l2a/T/S7SDXrStLKmtNkXZd61BSs49aFC93KEyeW/t9rZA52kd3n66/vOoKit+Tkk92SI45wS8eMcR06oz/4b+21+MJSvgdTKi5BlqTrf0Gwl3rfffdxDbMMoMjk1FbBlvt+QSOge6N7ff0Al5RlaxAC5QVGj9Z4BFuWatSXbbaZ69h/f+ub17BjNUhOhaajwwqP6Hv8s6eZF++1l/vsG99wnRqVFi23ohjl+O9Y7fpJK/s5n1VglFVw3PDhbtVHH7WuwN5+d6lHthNngyKt97Ij2FNZ+q1vufZ//EfX/tWvug4Vm6D4lfZYgtfo91pKB/g1BVnPZ+tdv4ce9U+Upad14vm8MCi2DzzwgBUbNDe9Y/ZeI18OOeQQ9x//8R+lLgUdNPUf0L5k6+8Pss1Fy5X90Frbsi7Lfjht+XJ9r7K+17Ku0hvketMzarJGLZo6hg51HYMHl7ao/egy+/8gl/Zootcm/Z01Fx/C7EeX2eCLoFi3zZ3r2oIteFu/0WTfE0z1ZoMndMvj4DVoXWkd6nVqHVoBKcsqLH7ddreeg18ybHSiHMbq1tXMmTNtiP6UKVNsHs1L75i938iXo48+2o0fP96yPpj24a4y28c5yH4Ek5YH/xE2akG2AhJkKyhRtkJTYbmyvlfZP4+ynr88myqy5qwRi2Vr5IJsW9NBtgITW25b1mXfK5XWQyNz8BtZtoIcZL8+rdgE2QpObLkVmdjX63uDJwqSzSTOWifKmutu3VoR6Sbr6+NZ4utZP8vn3tZJpfzJJ5+40047zU2aNMmWoXnpbxQ5pJFlog+kV20OZuxBH21rIKJsDUrw6BtuPfr+d99t4s+LsAECQfYHguN5SYVsU5VZz1k6yFyW41031ugFU/x38b+j1LKu6pWDmSgEguxfs9Z5pfXsf/da12E8t3ezPP7e+fc3vp5tXQfZ1ncwWYEJHm2Ksgmyl3Rd6S6ZbW0aTI9mR5HJKR3wrxffOJQajGAqNX7B5Bty39CUGsA+TqUGrYbJP48e/c/3r8e/Pr1W/9rjv1Mz8uvZv17fcGuqtH7j66CeU6Wf4adK61iP/u/Cr2c/iX+slbqBKTLZQJHJqfixGK+eWXOa1EWiR2vEg1xqDGPZn4ynyS4rosc6Zz3afLTcpiDb6womveZSwxdksX+jLD39vl4jsp/zWVP5uo3/jrYONNUpx5/TrpocWx7/uT7H32u95lJxCXL8d/HqkfX3rb0ZND+KTM4l7Y6QStk+4rEc73pSVgNjDU6Q9WiNUJBLjVOQrcGqc7bHWI6/Bk3xrhv/+k0sJ10nUu/sX6cerTgGudK6ja+H8i6sWrI9XzD1tm79a/PrtlJXpHLS9SCVcldXl+vs1CtAs6PI5FR7NFQ4TdaQRI+aSluwUfaNUPyxPNd7Kn9uzZe/tvjUrCq9Vv0O5b+fb/R9IYj/X9Kp/Lm6e17/evxr869T/GNaVGSWLlWnHZodRSan5s6da49JuyOkmmz/BlmPNpXlUoMUy6XRSHXO+pnK5a9BjybInpZ7zZ41Z1OQ7feLZf+7l4pADbm79emz/7nxLPEsaWYVGJ0rg+ZHkcmpTz/91D6ISbsjpNoczNiDNQNRVuMU70Lx3T42pZjt5wXZ/9xKr01q+X0blctfv/+9uvvd08jlPzf+enyWpL+jVJN1pv/8+fMto7lRZHJq2rRpdnOnZmINUqS/ctbV8rvXKzeDefPm2QmZaH4UmZz68MMPbW8maXeEkEPkUDPlV155xS1bpqNFaHYUmZxSV4LuHJi0O0LIIXKoWXJHR4d77LHHoiVodhSZHLv99tvddF0nDMgRXRhz8uTJ0RyaHUUmx6ZOnequvfZaG+4pSbsmhBwih/orqwv4mmuucYsWLYqWoNlRZHJMJ6vdc8897qWXXrL5JF0THjlEDvVH1t/zH//4RxvUguygyOScPpiXX3556bwZIKtefvlld8stt0RzyAqKTAHow3n//ffX1E1BDpFDjc7qHrvppps4NyaDKDIFoL2Zm2++2b3//vvRkuRdFkIOkUONyI888oh7+umnoyXIEopMQajAaBAAkDU68fLKK69syPX4UH8UmQJ5+OGH3QsvvGA5SZeFRw6RQ2lmnXD5+9//3s2aNcvmkT0UmQLRSWzXX3+9XW4mSZeFRw6RQ2nmd955x915552WkU0UmYJ58sknrX8baHa6COZvf/tbN2fOnGgJsogiUzDqhvjDH/7gPv7442hJdd0XQg6RQ2nlxx9/3D3zzDPREmQVRaaA3n33XXfHHXdEc8m7MoQcIofqlTUi8rrrrnMLFiyIliCrKDIFpA+wzjlQfzfQbHQZJJ3Z/8Ybb0RLkGUUmYLSIAD1d+sktyRdGR45RA7VI+uae7feeqtlZB9FpsD+9re/uWeffbambg1yiByqNWsvRpeO0f2QkA8UmQLT6J3f/OY3dmVboBlMnDjRLoGE/KDIFNzbb7/t7rrrrmgueReHkEPkULVZXbg33ngj1yfLGYpMwemDrUEAn3zyic0n6eLwyCFyqNo8YcIE25NBvlBkYN1lV199tVu6dGm0BGgsnbf1q1/9KppDnlBkYB588EE3adKkmro7yCFyqK9ZQ+r/9Kc/2flbyB+KDIxOelN/+OLFi6MltXV9kEPkUE/5rbfecnffffcKxQf5QZFByfPPP+/uvffeaA5InwqL7tk/c+bMaAnyhiKDEh2TiY/u6amLwyOHyKFqsw7066KtyC+KDFbw0Ucf2dnWOikuSdeHRw6RQ5WybkZ2ww032D1jkF8UGXyBrtL82muvRXNAOnQchqss5x9FBl+gIc3/+7//a1cE8GrpEiGHyCHl8iuBI78oMqjoqaeesuuaeUm7RIQcIoeUdbdLrk9WDBQZVKRbNF9++eUr7M0A9fD666/bpfx13A/5R5FBt3Rdsz//+c/WGCTpEvHIIbKz87F0MzKdgIlioMigR7///e/tkh9JukQ8cogcdsPqtsooDooMevTBBx+43/3ud2x5omazZ8+2G+VxjbxiocigV4888oh78cUXo7nkXSVCDhUx62C/7nqJYqHIoFdz5syxk+a8pF0lQg4VLc+aNcu6XjnxsngoMugTXfrjL3/5SzQH9F17e7u76qqruBlZQVFk0Gc6QXPGjBmJuko8cqhI+YUXXrAuVxQTRQZ9pvMbdN+ZWrpNyKGi5EWLFlk3mR5RTBQZ9Jm2TLU388Ybb0RLgJ7ddddd7rnnnovmUEQUGVRFw1B1OwB/tnY13SZCDhUh6xp4+lvp6OiIlqCIKDKoihoRdZm99NJLNp+kC8Ujh/KYdV6VLh2jY3goNooMqqYG5Oqrr7b7gQCV6FYRui8RQJFBIpMmTbIRQ9V2oZBDec4asqyD/WyEQCgySEQn1ZV3hyTtWhFyKA9Z1yd74oknoiUoOooMEtNVms877zy3cOHCaAmKbsqUKe6CCy7gbwIlrcF0bhiB6n300UfWPTJ27FjX1taWaMvXI4eymnVdsvPPP5/rk2EFFBnUTOfNDB061G2//falhqevDZNHDmU16yZ3l1xyiXv66aejpUCI7jLUTOdB6BLuDz30ULQERaKD/VdeeaX729/+Fi0BlqPIoC50x8MrrriiNBCgryORPHIoa1mPKi46s5/bKaMSigzqRsdntEWrg75Julw8cigL+f3337eNC25Ehu5QZFBXuh3AbbfdtsJWL/LJH4fhQD96QpFBXam43H777XbFZq9SN4uQQ1nNf/rTn9zzzz8fLQEqo8ig7qZNm+auv/76aC55V4yQQ82Wp0+fbu8x3WToDUUGqXj44YfdfffdF80hTxYvXuwuv/xyLhuDPqHIIDX/8z//Y4MBknTFeORQM+WJEye6xx57zDLQG4oMUvPmm2+6P//5zzV1y5BDzZJ1n/7f/e53dpUHoC844x+p+vDDD91OO+3k1lprrWgJskyDOu6++27OiUGfsSeDVM2ZM8fdcsst0Vy4Ney3jsnZyjr/SVfe1hW4gb6iyCBV6se///777diMGivNayJnK4sGcmjkIFANigxSp2Guutd7fLirb7iEHGrmPHPmTDvJFqgWRQYNodFIugSJto41CTk7+cknn7T7BwHVosigIWbNmmVXadbWsSY1XORsZI0ku+eeezjYj0QoMmgYHZtRt4uo8fLIoWbNOi9Gd7wEkqDIoGF0KRLd1EpbyKJHcvPnBx54gNspIzGKDBpGB/59l5kaLz2SmzvrSsvcjAy1oMigoZ566ik7d0aNmEcONWPWRoGuVQYkRZFBQ+ng8SOPPGJZW8qayM2ZdcBfGwVALSgyaDg1XIsWLbItZU1q0MjNlzVIY/LkydG7BiRDkUHDTZo0yQYBeGrQPHKoGbIKjIaeA7WgyKDhdB8SXaFZW82ahNxcWegqQz1QZNAvnnvuOdtq1qRGjdxcWZf059wY1ANFBv3i5ZdfLp17oUbNI4f6O7/11lvuk08+sQzUgiKDfqEuM91rRlvOokdy8+T33nvPzpEBakWRQb9Qd4yKjLac1ajpkdw8+Y033uBaZagLigz6hc7+91f1VaPmkUP9nV955RV7BGpFkUG/eeedd2zLWfRIbo7c2dlpt2UA6oEig36jhkxbzmrc9EhujqxzY3S2P1APFBn0mw8++KDUuHnkUH/mqVOnRnNA7Sgy6DdLlixxc+fOtawtaE3k/s8zZsywR6AeKDLoV7Nnz7bGTVvQmsj9n3WVbKBeKDLoVzrhT42bRw71Z6bIoJ4oMuhXCxYssEdtQWsi92/WuTG6QjZQLxQZ9Cs1aGrctAWtidy/WcOXdawMqBeKDPqVTspU4+aRQ/2VtSejQgPUC0UG/Uo3xlq2bJltTWsScv9lXbTUj/gD6qE1mM4NI9B47777rtt0001tEjV0fsua3NisYv/f//3f7oEHHij9H1Arigz6lfr/J06c6DbaaCM3cuTIaCkaTUXll7/8pfvjH/9IdxnqSvvKbLKg362xxhru4osvdtttt51raQl7cdXwaSu72qxL1E+bNi33VxEeOHCg23jjjV1bW1vidSUq9Lfeequ78sorXUdHhy0D6kV/ZRQZNAU1mOeff77bcsstbV6NoBrDavOFF17o7rrrLuv+ybPVVlvNnXnmmW7fffdNvK7kjjvusL0Yhi4jDXSXoWnoRmbPPvusGzt2rFtrrbWipX2nrfAbb7zRpiLcC0V7IBMmTHA77rijW2+99aKl1bntttvcZZddRoFBahhdhn6x7rrruoMPPrjUNebpopk//vGPrbtLtMWtqbesonLvvfe6G264wZYVhQqN9tx0/5ee1k951vp67LHHrIusvMCsuuqq7tBDD3WDBg2KlgDJUWTQLzbccEP3gx/8wI0bNy5aspxuZvbTn/7UhjerS0eTGsaesgYPXHXVVTYEt2h0q2R1d02fPr3b9VOetcd40UUXla644K288sru2GOPdd/+9rfdsGHDoqVActq8CTtmgQY67rjj3EknnWS3Yf7JT37iHn300eh/llO3mfZqNthgg2hJZa+99po7+eSTv9Bgrr766qWh0fWgLfxVVlklmquOugLrdYxIReKll176QpfgDjvs4C699FI3ZMiQaEll6mLTsa/ya5QNGDDAffe737X3Rq/1xBNP5A6ZqBlFBg2nLepLLrmktBejLXHtuUyaNMnmPXWl6XiDGkSNPtP3id8qlylTplgh0j3p43RQ/N///d/dnnvuGS2pnUZxaUpCNwGr53Gia6+91g7YlxcudXN9//vfL+2FxNeVfr6K0xlnnGFXv47T1xx55JFWWHyRUjfc7bffbhlIigP/aLjhw4e7o446yvY0/Py2227rHnnkEbd48WJbJmogP/74Yzs+s+uuu1pXjqhB1P+poVRDOHnyZFvu6f+PPvpo961vfau096HjC5pqyfr5ra2tNmmrv5rsn6P8OZPmMWPGuFdffbV07MpT0VVx3mmnnWw9+HUl2uM755xzrFut3Je+9CUbqTZ48ODS13/66acV9zCBalBk0HBbb721+/rXv26NpadCo3NkdGyl/LiKrgrwzjvvuN12280aWdGewY9+9CP39NNP23zcIYccYl1xvijlkdaduhOfe+45u12CpwKh4qPior1A78UXX3Rnn322++ijj6Ily2lv79xzz3VDhw6NloRUHP/v//4v90PBkS6KDBpOjdo+++xjW9xqDEWP66yzjk06KF1+JWBtsWvkmb5Xjd4111zj/vKXv0T/u9zo0aNta13dZX5LXvKYVRQ222wz9/DDD69wEqXO2Feh0fEoDbBQgT7rrLO+sNcj2iM67bTT3IgRI77w/HqeJ598kvvLoCYUGTTc4Ycf7rbZZptSt4waNGU96oRMHU/Qwek4/b+O3ejija+//nrFy5/o3BoVGDWu/jklr1lFev3117dlOp4VXx8qOlqm7kKNutO6K6f1/LOf/cxtvvnm0ZIVn1/dfS+88ILtSQJJUWTQcKecckq3w2PVcKo7TQ3dyy+//IVCogP8ajzLD6LrWIIOaNfzQH9W6HiWRq9p7yVO3Y4q1vHuNG/ttde2wRb63u6oyOiYmLowgaQ4TwYNpeKiLhzRVrOmSlkH7g877DBr6Hrjv16j1cqfpwhZI96+853vuD322MOW9UbdbBqB5gcHSPlz+qzjZEAtKDJoKHWT+WMx2lvRVCmrm+eEE05we++9d/Sd3dt9993dMcccYwf6e3rOPGcdy9LJrRpA0Rut1/3339/eh56eU1nXketLoQe6Q5FBQ/kRT2rEvO6yDt5r1FN8lFQ5dffooLauSNyX58xz1u0StL780PByWkfHH3+8nQ8TLxw9PadG8/kLlgJJUGTQMNo70UFmbSGLHnvLGqqr8zcqHTvQ9c/U7aOLQ/b2PEXJGuatvToVlDgNR9a14tSt2N33dpfpMkMtKDJoGO2ZaPSYtpDVeOmxL1mjxf71X//VRlLF6VIyupRKT99btKxi8o1vfMPtt99+0VoK6WRLnTukQt/d93aX6TJDLSgyaBgdN9D5GKLGy+tL1tb0BRdcYIVKDZ4OdB944IF2XMGr9jnzmlVItPenc2BE6+68885boRutmufUuTjdjQYEesMQZjSMDuL7EWCix2qyitSaa65p19bSVrm/YkB3X1/krBFno0aNsruEnnrqqaX7zXT39T1lDajQff91mRmgWvpLWr7pAqRIW9MHHHCAZTVefku5mqzzY5YuXbpCgUnyPEXJOldG5xBJLc+jc5B0ZQGgWnSXoSHU0GnL2vONl1ST1T0Wv+ZZ0ueRImRfYKSW5+lphB/QE4oMGkJdLtqq1taxJiFnI2vvsfzKC0BfcUwGDaFL+OsCl7pkv7au1Xj5LWVyc2dd6Vp33ozfhgHoK22uhH9RQANsv/32dvdGjRJD89P148aPH/+Fu44CfcWeDBpqxowZdul4nd+is8m1tSx6zGJWN5Ia4iuuuMK9+eabdqtoXRusu6/PUtbVrjVYQ+8ZkBRFBg339ttv2wixXXbZZYXrmEnW8l133WWXy9dtjXVZfBWcLbbYwm47kPQ5myHr6ss6L0l30wRqQZFBw6kR01ayBgL09crBzUYHw3XXSG3pL1q0KFrq3MyZM91jjz1m5wNl9QTG+fPnux/+8IdWOIFaUWTQL9RIq3tJx2a05a+z+LUVLXps9qy9sQsvvLDisQodIJ89e7bd20aj6np6nmbLuveMjpnpjphAPTCEGf1GXWa/+tWv3F//+lfbu9Gkhi4L+c4777Qupe5ob0b31a/0vc2a9X5cd9117r777ot+C6B22owJO2OBfqK9GV1ra999942WNIYa1XhXV19Nnz7dnX766T0WGdlrr73cf/7nf1ojXg19vQYPxK/LljYVmZ///Ofujjvu4JwY1BVFBk1B1yT7xS9+Ubqpmfit7HpnXc/rqaeesgZV3VrVWrJkiR176a0x1uX2/T34q7XVVlu5ww8/3C5yqeuQVfs7VpNVbLUudC5MR0eHLQPqRX9lFBk0BV3t96KLLrJL+4saQTWG9co6DqRjDTfffLOdYKj5ZqaTVnWttyOOOMLWjST93XvK9957r+3FcC4M0kCRQVPRIIDzzz/fbbLJJtGS2rW3t7tnn33W/fa3v3WvvvpqqXHNCu0R7bPPPu6oo45yo0ePrms32oMPPmiFXSPKgDRQZNBUtIWtEzUvvvhiGwKseVFhqDZrlJfOXdGey6RJk2zIdJatvfbadruEQw45xC42qhuUJV0/2ot75ZVX3A9+8AMbUQakhSHMaDo6sK6rAuhkTX8bYTWOaiT7mjWy6+qrr3a/+c1v3HvvvZeLYw0apKA9MY3Gmzdvnu3t6d46Uu36effdd90555zjpk2bZvNAWrRZE/7VAU3m61//ut12OX65+p6okOgEwuuvv94988wzuR8lpfVy0EEH2TGbjTbayIpIX0ydOtVG87311lvREiA97MmgaWlrWyO54pef8Q1pPGt0lIqL9lxUYHSipN9izzMVVXV5TZgwwe5aqTuH+i7G7taVvk57MFwuBo1CkUHT0p6IGlEdi9CAgHij6YuICsqvf/1rd9VVV9mlalSUikZDstU9qBNAVXA1Oq/SnUM1euySSy6xogQ0ij61dJehqem4zL/927+5ww47zBpNFZ8pU6a4m266yY5PqGHFcsOHD7d1pfNstHcjGvSgAnP33XfbPNAoFBlkgk7W1PGZjTfe2C7p8uijjyY6kbIoVIxHjhxpx2w0/PnWW2+1UXacbIlGo8ggM3S8QcdmdFwBfaNiM2LECBtF1uwnnyKfKDIAgNRwFWYAQGooMgCA1FBkAACpocgAAFJDkQEApIYiAwBIDUUGAJAaigwAIDUUGQBAaigyAIDUUGQAAKmhyAAAUkORAQCkhiIDAEgNRQYAkBqKDAAgNRQZAEBqKDIAgNRQZAAAqaHIAABSQ5EBAKSGIgMASA1FBgCQGooMACA1FBkAQGooMgCA1FBkAACpocgAAFJDkQEApIYiAwBIDUUGAJAaigwAIDUUGQBAaigyAIDUUGQAAKmhyAAAUkORAQCkhiIDAEgNRQYAkBqKDAAgNRQZAEBqKDIAgNRQZAAAqaHIAABSQ5EBAKSGIgMASA1FBgCQGooMACA1FBkAQGooMgCA1FBkAACpocgAAFJDkQEApMS5/w9AckmCTbD6yQAAAABJRU5ErkJggg==)"
      ],
      "metadata": {
        "id": "PZ5_UwUbX04u"
      }
    },
    {
      "cell_type": "code",
      "source": [
        "#Silahkan jalankan program untuk melihat hasil\n",
        "print('Seorang manusia biasa yang mengagumi indahnya AI\\n')\n",
        "print('Nama             :', name)\n",
        "print('Jenis Kelamin    :', sex)\n",
        "print('Alamat           :', add)\n",
        "print('Hobi             :', hoby)\n",
        "print('Pendidikan       :', study)\n",
        "print('Pekerjaan        :', work)\n",
        "print('Sosial Media     :', sm)\n",
        "print('Kutipan favorit  :\\n\\n\"%s\"'%(quote))\n",
        "print('\\nPengalaman       :')\n",
        "for exp in exp:\n",
        "  print('\\t-',exp)"
      ],
      "metadata": {
        "colab": {
          "base_uri": "https://localhost:8080/"
        },
        "id": "7jjLX4hv0PqW",
        "outputId": "5dbd1d87-2b68-411b-c972-15139c31a536"
      },
      "execution_count": null,
      "outputs": [
        {
          "output_type": "stream",
          "name": "stdout",
          "text": [
            "Seorang manusia biasa yang mengagumi indahnya AI\n",
            "\n",
            "Nama             : Fenando Samuel Tagi Huma\n",
            "Jenis Kelamin    : Laki - laki\n",
            "Alamat           : Jakarta\n",
            "Hobi             : Bermain musik\n",
            "Pendidikan       : S-1 Teknik Elektro\n",
            "Pekerjaan        : Mahasiswa\n",
            "Sosial Media     : @_nando1202\n",
            "Kutipan favorit  :\n",
            "\n",
            "\"Happiness is all when what do you think, what do you say, and what are you doing walk in harmony.\"\n",
            "\n",
            "Pengalaman       :\n",
            "\t- Staff Divisi Eksternal HME\n",
            "\t- Staff Acara MICRO\n",
            "\t- Staff Acara APCOM\n"
          ]
        }
      ]
    }
  ]
}